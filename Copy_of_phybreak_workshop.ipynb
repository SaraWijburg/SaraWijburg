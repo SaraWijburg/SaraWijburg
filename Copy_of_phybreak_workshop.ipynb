{
  "cells": [
    {
      "cell_type": "markdown",
      "metadata": {
        "id": "view-in-github",
        "colab_type": "text"
      },
      "source": [
        "<a href=\"https://colab.research.google.com/github/SaraWijburg/SaraWijburg/blob/main/Copy_of_phybreak_workshop.ipynb\" target=\"_parent\"><img src=\"https://colab.research.google.com/assets/colab-badge.svg\" alt=\"Open In Colab\"/></a>"
      ]
    },
    {
      "cell_type": "markdown",
      "metadata": {
        "id": "VpemmtdTZemN"
      },
      "source": [
        "# Outbreak analysis with phybreak\n",
        "\n",
        "---\n",
        "\n",
        "Welcome to this practical about the analysis of who infected whom during an infectious disease outbreak. \n",
        "\n",
        " \n",
        "This practical describes the use of the R package **phybreak** step by step. We will make use of a Google Colab notebook to analyse a SARS-CoV-2 outbreak in the population of Dutch mink farms.  \n",
        "\n",
        "Please note: Copy this notebook to your own Google Drive. Press ![Screenshot 2023-03-06 at 13.57.32.png](data:image/png;base64,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) at the top of this page, next to `Code` and `Text`. If you do not have a Google account, it is possible to work in this notebook. However, any changes will be lost. "
      ]
    },
    {
      "cell_type": "markdown",
      "metadata": {
        "id": "Fkx9Xo_EqOCg"
      },
      "source": [
        "## Setting up the R session\n",
        "\n",
        "---\n",
        "\n",
        "Before we start this practical we have to set up the R session by installing some packages.  \n",
        "\n",
        " \n",
        "\n",
        "The phybreak package will be downloaded from Github (github.org/bastiaanvdroest/phybreak). With the installation of phybreak, also its dependencies **ape** and **phangorn** will be installed. \n",
        "\n",
        " \n",
        "\n",
        "Furthermore, we need the packages **gplots** and **phytools** for visualization.  \n",
        "\n",
        " \n",
        "\n",
        "Note: This installation will take around 8 minutes. "
      ]
    },
    {
      "cell_type": "code",
      "execution_count": null,
      "metadata": {
        "id": "P1BS7K3j4yjW"
      },
      "outputs": [],
      "source": [
        "## Install the phybreak package from Github\n",
        "devtools::install_github(\"bastiaanvdroest/phybreak\", force = TRUE)\n",
        "\n",
        "## Install some packages for extra analyses and visualization\n",
        "install.packages(c(\"coda\", \"gplots\", \"phytools\"))\n",
        "\n",
        "## Load all packages\n",
        "lapply(c(\"phybreak\", \"coda\", \"gplots\", \"phytools\", \"igraph\"), require, character.only = TRUE)"
      ]
    },
    {
      "cell_type": "markdown",
      "metadata": {
        "id": "-frYC6VYYrqo"
      },
      "source": [
        "## Loading the data\n",
        "\n",
        "---\n",
        "\n",
        "During the installation and loading of the required packages, you can upload the data files in the session memory. Go to Files by pressing the ![Screenshot 2023-03-08 at 10.11.31.png](data:image/png;base64,iVBORw0KGgoAAAANSUhEUgAAAB4AAAAeCAYAAAA7MK6iAAAKqGlDQ1BJQ0MgUHJvZmlsZQAASImVlwdUk8kWx+f70kNCgNBr6E16CyAl9ABK6EVUQhIglBACQcWuLK7gWhCRpkhZFVFwLYCsFVGsKCjFuiCLiPJcLIiK5X3AIezua+fdnDnzO//cuXPvnJmcGwDIMmyhMBWWASBNkCUK8fWgRUXH0HAjAAbSAA+MAGBzMoUMFisQIDY3/9U+9AJoer5nNh3rX7//rybL5WVyAIBYCMdzMzlpCJ9CxhhHKMoCAHUA0XVXZAmnuR1heRGSIML905w4y2PTHD/DaDDjExbiibA8AHgSmy1KBIBEQ3RaNicRiUNyR9hSwOULEBYi7JqWls5F+DjCRogPopGm49Pj/xQn8S8x4yUx2exECc/WMmN4L36mMJW96v88jv9taaniuT0MkEFKEvmFTNeMnFl/SnqAhAXxi4PmmM+d8Z/hJLFf+BxzMj1j5pjL9gqQrE1dHDjHCXwfpiROFjNsjnmZ3qFzLEoPkeyVIPJkzDFbNL+vOCVcoifxmJL4OUlhkXOczY9YPMeZKaEB8z6eEl0kDpHkzxP4eszv6yOpPS3zT/XymZK1WUlhfpLa2fP58wSM+ZiZUZLcuDwv73mfcIm/MMtDspcwlSXx56X6SvTM7FDJ2izkQs6vZUnOMJntz5pj4AV4IBX50AALWANbZFhl8VZmTRfimS5cJeInJmXRGMgL49GYAo75Apq1pbUNANPvdfY6vAuZeYeQ4vl5Lb0WucYfkDeya16LLwKgOQ8A5Yfzmt5+ACi5ADS1ccSi7Flt5i1hABFQkAxVgCbQRX4PzJC87IEzcAfewB8EgTAQDZYBDkgCaUAEVoA1YCPIAwVgJ9gDykAlqAGHwTFwAjSDs+ASuApugrugBzwCA2AYvALj4AOYgiAIB5EhKqQCaUH6kClkDdEhV8gbCoRCoGgoDkqEBJAYWgNthgqgQqgMqoLqoF+gM9Al6DrUBT2ABqFR6C30GUbBJFge1oANYAuYDjPgADgMXgonwhlwDpwLb4dL4Gr4KNwEX4Jvwj3wAPwKnkABlBRKEaWNMkPRUZ6oIFQMKgElQq1D5aOKUdWoBlQrqgN1DzWAGkN9QmPRVDQNbYZ2Rvuhw9EcdAZ6HXobugx9GN2EbkffQw+ix9HfMGSMOsYU44RhYqIwiZgVmDxMMeYg5jTmCqYHM4z5gMViFbGGWAesHzYam4xdjd2G3YdtxF7EdmGHsBM4HE4FZ4pzwQXh2LgsXB6uFHcUdwHXjRvGfcRL4bXw1ngffAxegN+EL8YfwZ/Hd+NH8FMEGYI+wYkQROASVhF2EGoJrYQ7hGHCFFGWaEh0IYYRk4kbiSXEBuIV4mPiOykpKR0pR6lgKb7UBqkSqeNS16QGpT6R5EgmJE9SLElM2k46RLpIekB6RyaTDcju5BhyFnk7uY58mfyU/FGaKm0uzZTmSq+XLpduku6Wfk0hUPQpDMoySg6lmHKScocyJkOQMZDxlGHLrJMplzkj0yczIUuVtZINkk2T3SZ7RPa67As5nJyBnLccVy5XrkbustwQFUXVpXpSOdTN1FrqFeqwPFbeUJ4pnyxfIH9MvlN+XEFOwVYhQmGlQrnCOYUBRZSigSJTMVVxh+IJxV7Fz0oaSgwlntJWpQalbqVJZTVld2Wecr5yo3KP8mcVmoq3SorKLpVmlSeqaFUT1WDVFar7Va+ojqnJqzmrcdTy1U6oPVSH1U3UQ9RXq9eo31Kf0NDU8NUQapRqXNYY01TUdNdM1izSPK85qkXVctXiaxVpXdB6SVOgMWiptBJaO21cW13bT1usXaXdqT2lY6gTrrNJp1HniS5Rl66boFuk26Y7rqelt0hvjV693kN9gj5dP0l/r36H/qSBoUGkwRaDZoMXhsqGTMMcw3rDx0ZkIzejDKNqo/vGWGO6cYrxPuO7JrCJnUmSSbnJHVPY1N6Ub7rPtGsBZoHjAsGC6gV9ZiQzhlm2Wb3ZoLmieaD5JvNm89cWehYxFrssOiy+WdpZplrWWj6ykrPyt9pk1Wr11trEmmNdbn3fhmzjY7PepsXmja2pLc92v22/HdVukd0Wuza7r/YO9iL7BvtRBz2HOIcKhz66PJ1F30a/5ohx9HBc73jW8ZOTvVOW0wmnP5zNnFOcjzi/WGi4kLewduGQi44L26XKZcCV5hrnesB1wE3bje1W7fbMXded637QfYRhzEhmHGW89rD0EHmc9pj0dPJc63nRC+Xl65Xv1ekt5x3uXeb91EfHJ9Gn3mfc1853te9FP4xfgN8uvz6mBpPDrGOO+zv4r/VvDyAFhAaUBTwLNAkUBbYughf5L9q96PFi/cWCxc1BIIgZtDvoCcuQlcH6NRgbzAouD34eYhWyJqQjlBq6PPRI6Icwj7AdYY/CjcLF4W0RlIjYiLqIyUivyMLIgSiLqLVRN6NVo/nRLTG4mIiYgzETS7yX7FkyHGsXmxfbu9Rw6cql15epLktddm45ZTl7+ck4TFxk3JG4L+wgdjV7Ip4ZXxE/zvHk7OW84rpzi7ijPBdeIW8kwSWhMOFFokvi7sTRJLek4qQxvie/jP8m2S+5MnkyJSjlUMr31MjUxjR8WlzaGYGcIEXQnq6ZvjK9S2gqzBMOZDhl7MkYFwWIDmZCmUszW7LkkcbolthI/IN4MNs1uzz744qIFSdXyq4UrLy1ymTV1lUjOT45P69Gr+asblujvWbjmsG1jLVV66B18eva1uuuz10/vMF3w+GNxI0pG29vstxUuOn95sjNrbkauRtyh37w/aE+TzpPlNe3xXlL5Y/oH/k/dm612Vq69Vs+N/9GgWVBccGXbZxtN36y+qnkp+/bE7Z37rDfsX8ndqdgZ+8ut12HC2ULcwqHdi/a3VREK8over9n+Z7rxbbFlXuJe8V7B0oCS1pK9Up3ln4pSyrrKfcob6xQr9haMbmPu697v/v+hkqNyoLKzwf4B/qrfKuaqg2qi2uwNdk1z2sjajt+pv9cd1D1YMHBr4cEhwYOhxxur3OoqzuifmRHPVwvrh89Gnv07jGvYy0NZg1VjYqNBcfBcfHxl7/E/dJ7IuBE20n6yYZT+qcqTlNP5zdBTauaxpuTmgdaolu6zvifaWt1bj39q/mvh85qny0/p3Bux3ni+dzz3y/kXJi4KLw4dinx0lDb8rZHl6Mu328Pbu+8EnDl2lWfq5c7GB0XrrlcO3vd6fqZG/QbzTftbzbdsrt1+rbd7dOd9p1NdxzutNx1vNvatbDrfLdb96V7Xveu3mfev9mzuKerN7y3vy+2b6Cf2//iQeqDNw+zH0492vAY8zj/icyT4qfqT6t/M/6tccB+4Nyg1+CtZ6HPHg1xhl79nvn7l+Hc5+TnxSNaI3UvrF+cHfUZvftyycvhV8JXU2N5/5D9R8Vro9en/nD/49Z41PjwG9Gb72+3vVN5d+i97fu2CdbE0w9pH6Ym8z+qfDz8if6p43Pk55GpFV9wX0q+Gn9t/Rbw7fH3tO/fhWwRe6YVQCEDTkgA4O0hAMjRAFDvAkBcMttPzxg0+x9ghsB/4tmee8bsAajpAyBsNQCBtwEoLUPaWSQ+JRYAFgXRnQFsYyMZc73vTJ8+bTJHAajKsGSwQsG/sdke/k95/30G01Ftwd/nfwKQ4QXZyZORZAAAAFZlWElmTU0AKgAAAAgAAYdpAAQAAAABAAAAGgAAAAAAA5KGAAcAAAASAAAARKACAAQAAAABAAAAHqADAAQAAAABAAAAHgAAAABBU0NJSQAAAFNjcmVlbnNob3Tc6LrLAAAB1GlUWHRYTUw6Y29tLmFkb2JlLnhtcAAAAAAAPHg6eG1wbWV0YSB4bWxuczp4PSJhZG9iZTpuczptZXRhLyIgeDp4bXB0az0iWE1QIENvcmUgNi4wLjAiPgogICA8cmRmOlJERiB4bWxuczpyZGY9Imh0dHA6Ly93d3cudzMub3JnLzE5OTkvMDIvMjItcmRmLXN5bnRheC1ucyMiPgogICAgICA8cmRmOkRlc2NyaXB0aW9uIHJkZjphYm91dD0iIgogICAgICAgICAgICB4bWxuczpleGlmPSJodHRwOi8vbnMuYWRvYmUuY29tL2V4aWYvMS4wLyI+CiAgICAgICAgIDxleGlmOlBpeGVsWURpbWVuc2lvbj4zMDwvZXhpZjpQaXhlbFlEaW1lbnNpb24+CiAgICAgICAgIDxleGlmOlBpeGVsWERpbWVuc2lvbj4zMDwvZXhpZjpQaXhlbFhEaW1lbnNpb24+CiAgICAgICAgIDxleGlmOlVzZXJDb21tZW50PlNjcmVlbnNob3Q8L2V4aWY6VXNlckNvbW1lbnQ+CiAgICAgIDwvcmRmOkRlc2NyaXB0aW9uPgogICA8L3JkZjpSREY+CjwveDp4bXBtZXRhPgovBHeeAAABJ0lEQVRIDe2VPQqDQBCF30osxcpCG0sLFc/hXQRrwbMI9l7CY9hYCoJYaGmRZBMWkphZA0psdppld34+9+mM7Ho3nGDaCcwHUoH/pryS+m9SX2SkeZ7RNA1eW50xhiiKoOu6LHXTR4LHcUSWZViWZVUkDEMkSbILzqjJVdc1yrJcQcWBbdswTVNs39YgCBDHMbg6lJE3FvJalkXebJqmVV2uUFVVcF0Xvu+v/OJgE5ymKRzHEfGba9d1yPMcfd9LwaqPN6U8KoCUWnxcR4E+65Dgz8Cj96eByXbStOcztW2Lb/1KKTAMw8Ml8qk4EszHIp/HRVFQueQ5z+P5MiNHJk/69pOQFeM+PiY9z4NhGNJQKViaudN52selwDvf3O/pSurftdoZeQP+qVdmuSKkkQAAAABJRU5ErkJggg==) icon at the left of your screen. Then use ![Screenshot 2023-02-27 at 15.49.15.png](data:image/png;base64,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) directly under Files, to upload all files from the folder that was provided to you.\n",
        "\n"
      ]
    },
    {
      "cell_type": "markdown",
      "metadata": {
        "id": "hXgNo9dkV23F"
      },
      "source": [
        "After the completion of the installation and loading of the packages, we can proceed with reading in the data. We provided two files with data: \n",
        "\n",
        " \n",
        "\n",
        "1.   **The sequence data file** (in .fasta format). \n",
        "\n",
        "     This file contains the sequences which where sampled at the mink farms. The sequences are stored in fasta format: for each sequence a descriptive line starting with \">\" and the sequence in the next line. \n",
        "\n",
        "2.   **The metadata file**. This file contains characteristics of the farms. \n",
        "\n",
        " \n",
        "\n",
        "For analysis with phybreak, it is important that all sequences are aligned and have equal length. \n",
        "\n",
        " \n",
        "\n",
        "We read the data as following: "
      ]
    },
    {
      "cell_type": "code",
      "execution_count": null,
      "metadata": {
        "id": "xfV7OUagV0Fe"
      },
      "outputs": [],
      "source": [
        "## Read in the sequence data\n",
        "sequences <- read.dna(\"sequences.fasta\", format = \"fasta\")\n",
        "\n",
        "## Read in the metadata\n",
        "metadata <- read.csv(\"metadata.csv\")\n",
        "metadata$sampling.date <- as.Date(metadata$sampling.date)\n",
        "\n",
        "  \n",
        "## If you want to use your own data, uncomment this part and fill in the paths \n",
        "## to the sequence and metadata files\n",
        "\n",
        "#sequences <- read.dna(\"[path-to-sequences.fasta]\", format = \"fasta\")\n",
        "## Sequences in table format, can be translated to DNAbin format:\n",
        "#sequences <- as.DNAbin(sequences)\n",
        "\n",
        "#metadata <- read.csv(\"[path-to-metadatafile.csv]\")\n",
        "#metadata$sampling.date <- as.Date(metadata$sampling.date)\n",
        "\n",
        "## Show the first twenty rows of 'metadata'\n",
        "head(metadata, 20)"
      ]
    },
    {
      "cell_type": "code",
      "source": [
        "## Show the number of rows and columns of metadata data.frame\n",
        "dim(metadata)"
      ],
      "metadata": {
        "id": "zqLoCwlchNky"
      },
      "execution_count": null,
      "outputs": []
    },
    {
      "cell_type": "markdown",
      "source": [
        "The output shows the first 20 rows of the metadata table, which contains information about 68 samples. Each row is a sample including its name, the farm from which the sample was taken and at which date the sample was taken. Furthermore, it includes the geographic location (in latitude/longitude coordinates) of the farm and the culling date (i.e. the date that all animals were removed from the farm). In the last column the genetic clusters of a phylogenetic analysis performed by Lu et al. (2021) is added. "
      ],
      "metadata": {
        "id": "6l-6OGAVgXSk"
      }
    },
    {
      "cell_type": "markdown",
      "metadata": {
        "id": "YJeytv7mUs6_"
      },
      "source": [
        "## First view on the data\n",
        "\n",
        "---\n",
        "\n",
        "A first approach on analysing an outbreak is to take a look at the genetic sequences of the pathogen. Single Nucleotide Polymorphisms (SNPs) between sequences give information  about the relatedness of sequences and provide a preliminary overview of the clustering of the hosts.  \n",
        "\n",
        " \n",
        "\n",
        "The distance between two sequences is defined as the number of nucleotides in which the sequences are different, i.e. the number of SNPs, between these sequences. \n",
        "\n",
        "We cluster the sequences based on their pairwise distance, i.e. distance between two sequences. By visualizing the distances in a heatmap, some genetic clusters can be found in which transmission could have happened. "
      ]
    },
    {
      "cell_type": "code",
      "execution_count": null,
      "metadata": {
        "id": "wFkBoREpUhTR"
      },
      "outputs": [],
      "source": [
        "## Create a distance matrix in SNPs, use model = \"N\" to calculate the SNPs\n",
        "## between two sequences\n",
        "sequences.dist <- dist.dna(sequences, model = \"N\", as.matrix = TRUE)\n",
        "\n",
        "## Visualize the distance matrix in a heatmap\n",
        "heatmap.2(sequences.dist, trace = \"none\", key.xlab = \"Number of SNPs\")"
      ]
    },
    {
      "cell_type": "markdown",
      "metadata": {
        "id": "ROG-pEW8XNEG"
      },
      "source": [
        "**Question:** As the color represents the distance between two sequences (with red a distance of 0, i.e. two exact the same sequences), how many genetic clusters do you expect?  \n"
      ]
    },
    {
      "cell_type": "markdown",
      "source": [
        "Now that we have found genetic clusters, which contain possible transmissions, we want to find out direction of these transmissions."
      ],
      "metadata": {
        "id": "wINcLsw0XjV8"
      }
    },
    {
      "cell_type": "markdown",
      "metadata": {
        "id": "jIBEDjN5L7CC"
      },
      "source": [
        "To get some more idea about who infected whom, we can have a look at two types of trees: \n",
        "\n",
        "\n",
        "\n",
        "1.   **The minimal spanning tree (MST):** This tree, with as nodes the farms and as edges connections between farms, is used to identify the way of connecting samples with least overall distance.\n",
        "2.   **The Neighbour Joining Tree (NJ):** This tree has the farms on the end nodes (leaves), and as inner nodes non-sampled sequences. It is used to represent evolutionary relationships between the sequences.\n"
      ]
    },
    {
      "cell_type": "markdown",
      "source": [
        "For simplicity of the figures, we are going to use only one sample of each farm:"
      ],
      "metadata": {
        "id": "t7cdFQNZr70M"
      }
    },
    {
      "cell_type": "code",
      "source": [
        "## Create a distance matrix with one sample per farm\n",
        "one_sequence <- sequences[!duplicated(metadata$farm),]\n",
        "one_sequence.dist <- dist.dna(one_sequence, model = \"N\", as.matrix = TRUE)"
      ],
      "metadata": {
        "id": "MCHczPdVr1XG"
      },
      "execution_count": null,
      "outputs": []
    },
    {
      "cell_type": "code",
      "execution_count": null,
      "metadata": {
        "id": "KP_f9tSyNQPW"
      },
      "outputs": [],
      "source": [
        "## Make a graph object from the distance matrix\n",
        "mygraph <- graph.adjacency(one_sequence.dist, weighted = TRUE)\n",
        "\n",
        "## Compute and plot the minimum spanning tree\n",
        "mstgraph <- as.undirected(minimum.spanning.tree(mygraph))\n",
        "\n",
        "## Create a layout where nodes with more distance are further away from each other\n",
        "layout <- layout_with_fr(mstgraph, weights=1/E(mstgraph)$weight)\n",
        "\n",
        "plot(mstgraph, \n",
        "     layout = layout, \n",
        "     edge.label = edge_attr(mstgraph,\"weight\"),   # Add distance as edge label\n",
        "     edge.label.color = \"black\",                  # Color of edge labels\n",
        "     vertex.size = 2,                             # Size of the nodes\n",
        "     vertex.label.dist= 1,\n",
        "     vertex.label.cex = 1.5)                        # Add a little space between the node and its label\n",
        "title(main = \"Minimal spanning tree\")\n",
        "\n",
        "## Compute and plot the Neighbour joining tree\n",
        "njtree <- nj(one_sequence.dist)\n",
        "\n",
        "plot(njtree, type = \"unrooted\", use.edge.length = F)  # Plot without using a starting edge and no edge length for better overview\n",
        "title(main = \"Neighbour joining tree\")\n",
        "edgelabels(round(njtree$edge.length, 1), frame = \"none\") # Add distance as edge labels\n",
        "\n"
      ]
    },
    {
      "cell_type": "markdown",
      "metadata": {
        "id": "nNfnDY1bP1cF"
      },
      "source": [
        "**Question:** \n",
        "Can we get any clue on who infected whom in these trees?\n",
        "\n",
        "**Question:** Rerun the code to create MST and NJ trees, are they the same as in the first run?"
      ]
    },
    {
      "cell_type": "markdown",
      "metadata": {
        "id": "iPXEjP8GH1rx"
      },
      "source": [
        "## Collecting all data into one object\n",
        "\n",
        "\n",
        "---\n",
        "\n",
        "\n",
        "After reading the genetic and epidemiological data, we have to collect them in a way that the functions in **phybreak** can work with it.\n",
        "When there are multiple samples from the same host, the samples have to be linked to their hosts. In the `metadata` object, each sample is linked to a farm, so we can use that column as host names. \n",
        "\n",
        "*Note:* For **phybreak** to match a sequence and sampling time, we must enter them in the same order. This is already done in our metadata.\n",
        "\n",
        "*Note:* In this version of **phybreak** it is only possible to include sequences, sample times, host names and spatial data (lon/lat) of the hosts."
      ]
    },
    {
      "cell_type": "code",
      "execution_count": null,
      "metadata": {
        "id": "1scHP43fMF4i"
      },
      "outputs": [],
      "source": [
        "data.object <- phybreakdata(sequences = sequences,\n",
        "                            sample.times = metadata$sampling.date,\n",
        "                            host.names = metadata$farm)"
      ]
    },
    {
      "cell_type": "markdown",
      "metadata": {
        "id": "aGLMwWwJOfE4"
      },
      "source": [
        "## Set up the analysis\n",
        "---\n",
        "When we now have a phybreakdata object, it is time to initizalize the analysis. This means that we are given some prior knowledge about the parameter values to the model, and create a phylogenetic tree and a matching transmission tree as starting trees. We can do this with the `phybreak` function. \n",
        "\n",
        "\n"
      ]
    },
    {
      "cell_type": "code",
      "execution_count": null,
      "metadata": {
        "id": "fOhHOC5F3dwi"
      },
      "outputs": [],
      "source": [
        "MCMC_init <- phybreak(data.object)"
      ]
    },
    {
      "cell_type": "markdown",
      "source": [
        "By default, the generation time interval distribution will follow a Gamma distribution: a natural choice for time processes. The infectiousness of an infector is distributed according to this distribution. To use the Gamma distribution in the analysis, we can run: "
      ],
      "metadata": {
        "id": "QDkL5u7xr15m"
      }
    },
    {
      "cell_type": "markdown",
      "source": [
        "`MCMC_init <- phybreak(data.object, prior.sample.mean.mean = 10, prior.sample.mean.sd = 1)`\n",
        "\n",
        "(not runnable as code in this notebook)"
      ],
      "metadata": {
        "id": "oYxvm8cXTCml"
      }
    },
    {
      "cell_type": "markdown",
      "source": [
        "For our outbreak, the Gamma distribution is not optimal, as the farms could have been infected and stayed infectious till culling. So we included an infectiousness function which represents this model. This function describes a exponential growth in infectiousness right after infection of a farm. After some time, the infectiousness will become saturated, and it declines again after culling of the farm. \n",
        "\n",
        "You can find this function in `infectivity_function.R`. \n",
        "\n",
        " \n",
        "\n",
        "This infectiousness function also takes the time of culling into account, so we have to load the culling times into the packages memory. "
      ],
      "metadata": {
        "id": "cage0_Q-UfGK"
      }
    },
    {
      "cell_type": "code",
      "execution_count": null,
      "metadata": {
        "id": "zGnfaxMFQtdv"
      },
      "outputs": [],
      "source": [
        "## Assign the culling times to the package environment\n",
        "culling.times <- as.Date(metadata$culling.date[match(data.object$sample.hosts[1:18], metadata$farm)])\n",
        "assign(\"culling.times\", get(\"culling.times\", environment()), phybreak:::userenv)"
      ]
    },
    {
      "cell_type": "markdown",
      "metadata": {
        "id": "Y72hCHWjTQRv"
      },
      "source": [
        "The analysis will be initialized by defining prior distributions for parameters that take into account the knowledge we have of these parameters. For instance, Hammer et al. (2021) found that the time between infection and sampling of a farm was 1-2 weeks. So we set `prior.sample.mean.mean = 10` and `prior.sample.mean.sd = 3`: A mean of 10 days with a standard deviation of 1 day.  \n",
        "\n",
        "Besided the parameter values, we also initialize a phylogenetic and transmission tree, which the model is going to update to find the tree best fitting to the data. \n",
        "\n",
        " \n",
        "\n",
        " "
      ]
    },
    {
      "cell_type": "code",
      "execution_count": null,
      "metadata": {
        "id": "Iw8zwiQHRJZA"
      },
      "outputs": [],
      "source": [
        "MCMC_init <- phybreak(data.object, prior.sample.mean.mean = 10, prior.sample.mean.sd = 3,\n",
        "                      trans.model = \"user-defined\", infectivity_file = \"infectivity_function.R\")"
      ]
    },
    {
      "cell_type": "markdown",
      "metadata": {
        "id": "lmBtEu0NU4sE"
      },
      "source": [
        "## Running the analysis\n",
        "\n",
        "\n",
        "---\n",
        "\n",
        "\n",
        "Now that we have an initial state, we can sample from the posterior distributions using the MCMC algorithm. \n",
        "There are two functions available for that, `burnin_phybreak` and `sample_phybreak`. The difference is that the former runs a MCMC chain but only returns the `phybreak` object with the latest state, whereas the latter also samples from the chain and stores these samples."
      ]
    },
    {
      "cell_type": "markdown",
      "metadata": {
        "id": "CreQW0pmXB0A"
      },
      "source": [
        "### Burn-in\n",
        "\n",
        "Convergence of the MCMC results, will happen after a while, such that we can loose the information in the first cycles. To not include those cycles in the posterior distributions, we first perform a burn-in of 1,000 cycles. By default, the function will show intermediate results every 10 seconds, such that we can keep track of its progress.\n",
        "\n",
        "*Note:* Results may differ each time you run the cell. This is because of the MCMC chain taking quasi-random samples of the parameters, infectors and infection times.\n"
      ]
    },
    {
      "cell_type": "code",
      "execution_count": null,
      "metadata": {
        "id": "7YkmwdXWU8Sw"
      },
      "outputs": [],
      "source": [
        "## Perform a burn-in of the MCMC\n",
        "MCMC_state <- burnin_phybreak(MCMC_init, ncycles = 1000)"
      ]
    },
    {
      "cell_type": "markdown",
      "metadata": {
        "id": "6unQq0-hVxjK"
      },
      "source": [
        "### Sampling\n",
        "After the burn-in period, we are sampling the model parameters, the infectors and infection times from the posterior distributions. We run 10,000 cycles (`1e4`) in order to have enough samples to calculate the estimated values. This will take about 10 minutes to process, so we provided a `mcmc_samples.rds` file with the result of this command. \n"
      ]
    },
    {
      "cell_type": "code",
      "execution_count": null,
      "metadata": {
        "id": "k7iApcc4W8xR"
      },
      "outputs": [],
      "source": [
        "## To run the MCMC chain with 10,000 cycles\n",
        "## The `nchains = 3` argument tells the model to use 3 parallel chains, in order\n",
        "## to find the most optimal state\n",
        "\n",
        "# MCMC_state <- sample_phybreak(MCMC_state, nsample = 1e4, nchains = 3)\n",
        "\n",
        "## To load the prerun MCMC chain provided as .rds file\n",
        "MCMC_state <- readRDS(\"mcmc_samples.rds\")\n",
        "print(MCMC_state)"
      ]
    },
    {
      "cell_type": "markdown",
      "metadata": {
        "id": "1Wa9-fi7-uOm"
      },
      "source": [
        "## Analyze the results\n",
        "\n",
        "\n",
        "---\n",
        "\n",
        "\n",
        "\n",
        "After running `sample_outbreak`, the `phybreak` object contains samples from the MCMC-chain. We can use the functionality of the **coda** package to analyse the chain, e.g. making trace plots, calculating effective sample sizes (ESS), and calculating summary statistics of the parameters and (continuous) variables."
      ]
    },
    {
      "cell_type": "code",
      "execution_count": null,
      "metadata": {
        "id": "9ia4titF_ArS"
      },
      "outputs": [],
      "source": [
        "mcmc <- get_mcmc(MCMC_state)\n",
        "effectiveSize(mcmc)\n",
        "plot(mcmc[,c(\"logLik\")])"
      ]
    },
    {
      "cell_type": "markdown",
      "source": [
        "**Question:** By changing `\"logLik\"` into `\"introductions\"` you can plot the trace and density plots of the number of introductions. How many introductions do you expect based on these plots?"
      ],
      "metadata": {
        "id": "7FXKoLwCZ2Wt"
      }
    },
    {
      "cell_type": "markdown",
      "source": [
        "In the density plots, discrete values on the x-axis are given by the number at the right side of the bar. This means that the first bar in the introductions density plot represent 1 introduction."
      ],
      "metadata": {
        "id": "mOuZRv2Y2FJM"
      }
    },
    {
      "cell_type": "markdown",
      "source": [
        "Besides trace and density plots, we can also calculate the empirical mean and standard deviation of the parameters, along with their quantiles."
      ],
      "metadata": {
        "id": "ZenH4HRiaPpA"
      }
    },
    {
      "cell_type": "code",
      "execution_count": null,
      "metadata": {
        "id": "wH_TLx4RBgVl"
      },
      "outputs": [],
      "source": [
        "summary(mcmc[,c(\"mu\")])"
      ]
    },
    {
      "cell_type": "markdown",
      "source": [
        "**Question:** What is the mean and standard deviation of the mean sampling time (`mS`)?"
      ],
      "metadata": {
        "id": "gMKAySwrakmY"
      }
    },
    {
      "cell_type": "markdown",
      "metadata": {
        "id": "4b33vcYnBgny"
      },
      "source": [
        "### Tree summmary\n",
        "\n",
        "The prime summaries from the analysis are the consensus transmission trees: who was infected by whom, obtained through `transtree`. There are multiple ways to compute this tree. \n",
        "\n",
        " \n",
        "\n",
        "1.    Using the Edmonds' algorithm (`method = edmonds`), as described in [Klinkenberg et al. (2017)](http://dx.doi.org/10.1371/journal.pcbi.1005495). This algorithm bases its choice of infectors on their support, i.e. how many times the infector appeared as infector in the MCMC-chain, and avoids circular relations (e.g. two farms infecting each other). This transmission tree does not have to be one of the trees in the MCMC-chain. Therefore, it does not always have a underlying phylogenetic tree. \n",
        "\n",
        "3.    The maximum parent credibility (MPC, `method = mpc`) tree is that tree among the sampled trees with maximal sum of the support of all infectors. Because it is one of the sampled trees, it does come with a matching phylogenetic tree. \n",
        "\n",
        " \n",
        "\n",
        "In order to get a phylogenetic tree as output, we are going to use the MPC-tree in this practical, although it may have lower support for the infectors compared to the Edmonds' consensus tree.  \n",
        "\n",
        " \n",
        "\n",
        "The results of `transtree` is a data frame with for each host its infector, support of that infector and the infection time (with 95% credible interval). "
      ]
    },
    {
      "cell_type": "code",
      "execution_count": null,
      "metadata": {
        "id": "5rhaA-YtDC08"
      },
      "outputs": [],
      "source": [
        "transtree(MCMC_state, method = \"mpc\")"
      ]
    },
    {
      "cell_type": "markdown",
      "source": [
        "The table above shows for each host the infector in the MPC-tree. It is also possible to see the other infectors of a host found in the sampled trees."
      ],
      "metadata": {
        "id": "eoK26KM7kU4Q"
      }
    },
    {
      "cell_type": "code",
      "source": [
        "## Show all infectors of Farm 8a, and their support\n",
        "infectorsets(MCMC_state, which.hosts = \"F8a\")"
      ],
      "metadata": {
        "id": "kCndQlpBkVSy"
      },
      "execution_count": null,
      "outputs": []
    },
    {
      "cell_type": "markdown",
      "metadata": {
        "id": "fzZ2vAMADK88"
      },
      "source": [
        "### Tree visualization\n",
        "\n",
        "Another way to look at the consensus transmission trees is to plot the transmission or phylogenetic tree (or both in the same figure). \n",
        "\n",
        "A transmission tree figure has the farms on the y axis and time on the x axis. Arrows represents transmission or introduction, and the crosses are the sampling times. \n",
        "\n",
        "For a consensus tree, the `plotTrans` function will show the support of the transmission link as a colored arrow."
      ]
    },
    {
      "cell_type": "code",
      "execution_count": null,
      "metadata": {
        "id": "G4h0yE6yJ_3u"
      },
      "outputs": [],
      "source": [
        "plotTrans(MCMC_state, plot.which = \"mpc\", samplenr = 0)"
      ]
    },
    {
      "cell_type": "markdown",
      "source": [
        "**Question:** Can you find in the help of the plot function (`?plotTrans`) what support the colors represent?\n",
        "\n",
        "**Question:** Plot transmission trees of different samples of the posteriors (change `samplenr = ...`). What differences are there?"
      ],
      "metadata": {
        "id": "dL5EDR2ubo6a"
      }
    },
    {
      "cell_type": "markdown",
      "source": [
        "The phylogenetic plot has time at the x axis, and no information on the y axis. The alternating colors represent new hosts, such that every change in color represent a transmission between two hosts. The first red line represent the history host. "
      ],
      "metadata": {
        "id": "uFlu0yKuYPls"
      }
    },
    {
      "cell_type": "code",
      "source": [
        "## Plot the phylogenetic tree with maximum parent credibility\n",
        "plotPhylo(MCMC_state, plot.which = \"mpc\", samplenr = 0)"
      ],
      "metadata": {
        "id": "Xpzk9irkYPUl"
      },
      "execution_count": null,
      "outputs": []
    },
    {
      "cell_type": "markdown",
      "metadata": {
        "id": "OsLKUzlkKHuU"
      },
      "source": [
        "**Question:** Can you find the number of index cases in this phylogenetic tree?\n",
        "\n",
        "These two figures can even be combined into one, where the phylogenetic mini-trees of each host is plotted. Transmission are now given by the dashed lines between farms.\n",
        "\n",
        "*Note:* The color blocks of the farms stop at the last sample/transmission. It colors the phylogenetic mini-tree of the host, and does not give any information about the infectiousness of a farm."
      ]
    },
    {
      "cell_type": "code",
      "execution_count": null,
      "metadata": {
        "id": "4hJbjOt9KDqw"
      },
      "outputs": [],
      "source": [
        "plotPhyloTrans(MCMC_state, plot.which = \"mpc\")"
      ]
    },
    {
      "cell_type": "markdown",
      "source": [
        "We can now also compare our results with the phylogenetic analysis of Lu et al. (2021). They found 3 genetic clusters within this set of farms, which are included in the metadata table: column `metadata$gen.cluster`. As we assign a color to each of the 3 clusters and plot a transmission tree with colored labels, we can compare our results with these genetic clusters."
      ],
      "metadata": {
        "id": "Ey-VhxBd5w5p"
      }
    },
    {
      "cell_type": "code",
      "source": [
        "## Select three colorblind friendly colors\n",
        "colors <- c(\"#000000\", \"#E69F00\", \"#56B4E9\")\n",
        "\n",
        "## Color the farms (hosts) according to the genetic clusters.\n",
        "host.color <- sapply(unique(data.object$sample.hosts), function(n){\n",
        "  cluster <- metadata$gen.cluster[metadata$farm == n][1]\n",
        "  if (cluster == \"A\") color <- colors[1]\n",
        "  else if (cluster == \"B\") color <- colors[2]\n",
        "  else if (cluster == \"D\") color <- colors[3]\n",
        "  return(color)\n",
        "})"
      ],
      "metadata": {
        "id": "c_azHZYXyPih"
      },
      "execution_count": null,
      "outputs": []
    },
    {
      "cell_type": "code",
      "source": [
        "## Plot the transmission tree (the MPC tree) for which the labels are colored.\n",
        "plotTrans(MCMC_state, plot.which = \"mpc\", label.col = host.color)"
      ],
      "metadata": {
        "id": "P2AtRTA41MKC",
        "colab": {
          "base_uri": "https://localhost:8080/",
          "height": 437
        },
        "outputId": "10f34dd3-4221-4729-bef2-6f1ff083057d"
      },
      "execution_count": null,
      "outputs": [
        {
          "output_type": "display_data",
          "data": {
            "text/plain": [
              "plot without title"
            ],
            "image/png": "[encoded data removed]"
          },
          "metadata": {
            "image/png": {
              "width": 420,
              "height": 420
            }
          }
        }
      ]
    },
    {
      "cell_type": "markdown",
      "source": [
        "**Question:** Compare the transmission tree of our analysis and the genetic clusters of Lu et al. (the colored labels in the figure), do you find similiarities and/or differences? Can you explain any differences?"
      ],
      "metadata": {
        "id": "Y7aKuxA0QNrT"
      }
    }
  ],
  "metadata": {
    "colab": {
      "provenance": [],
      "include_colab_link": true
    },
    "kernelspec": {
      "display_name": "R",
      "name": "ir"
    },
    "language_info": {
      "name": "R"
    }
  },
  "nbformat": 4,
  "nbformat_minor": 0
}